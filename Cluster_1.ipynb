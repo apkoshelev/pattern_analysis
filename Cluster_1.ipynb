{
 "cells": [
  {
   "cell_type": "markdown",
   "metadata": {},
   "source": [
    " # Проект \"Анализ паттернов\". Построение алгоритмов кластеризации."
   ]
  },
  {
   "cell_type": "code",
   "execution_count": 10,
   "metadata": {
    "collapsed": true
   },
   "outputs": [],
   "source": [
    "# imports\n",
    "import pyexcel_xlsx as xl\n",
    "import pandas as pd\n",
    "import numpy as np"
   ]
  },
  {
   "cell_type": "markdown",
   "metadata": {},
   "source": [
    "## Проект алгоритма кластеризации №1.\n",
    "\n",
    "__Основа метода - расстояние Хемминга.__\n",
    "\n",
    "Описание:\n",
    "\n",
    "1) подгрузка данных из excel \n",
    "    \n",
    "2) создание дата фрейма регион-партия\n",
    "    - проверяем файл на ошибки (пропуски, сумма ряда больше 100%, данные другого типа)\n",
    "3) кодировка регионов (0-1-2)\n",
    "\n",
    "4) подсчет попарного расстояния Хемминга для каждой пары регионов без перестановок\n",
    "    - регионы, имеющие нулевое расстояние между собой, относятся к одному паттерну\n",
    "    \n",
    "5) визуализация полученного результата\n",
    "    - график\n",
    "    - текст"
   ]
  },
  {
   "cell_type": "code",
   "execution_count": 159,
   "metadata": {},
   "outputs": [
    {
     "name": "stdout",
     "output_type": "stream",
     "text": [
      "Party A contains a non-numeric value\n",
      "\n",
      "--------------------------------------------------------------\n",
      "\n",
      "Sum of region Region 2 votes does not equal 100%, but 90.0\n",
      "\n",
      "--------------------------------------------------------------\n",
      "\n",
      "Sum of region Region 3 votes does not equal 100%, but 65.0\n",
      "\n",
      "--------------------------------------------------------------\n",
      "\n",
      "Можно выделить 3 кластера(-ов)\n",
      "\n",
      "--------------------------------------------------------------\n",
      "\n",
      "К кластеру 1, выраженному кодировкой 00, принадлежат регионы:\n",
      "Region 2\n",
      "\n",
      "--------------------------------------------------------------\n",
      "\n",
      "К кластеру 2, выраженному кодировкой 11, принадлежат регионы:\n",
      "Region 3\n",
      "Region 4\n",
      "Region 5\n",
      "Region 6\n",
      "\n",
      "--------------------------------------------------------------\n",
      "\n",
      "К кластеру 3, выраженному кодировкой 21, принадлежат регионы:\n",
      "Region 1\n",
      "\n",
      "--------------------------------------------------------------\n",
      "\n"
     ]
    },
    {
     "name": "stderr",
     "output_type": "stream",
     "text": [
      "/Users/macbook/anaconda3/lib/python3.6/site-packages/ipykernel_launcher.py:31: FutureWarning: convert_objects is deprecated.  To re-infer data dtypes for object columns, use DataFrame.infer_objects()\n",
      "For all other conversions use the data-type specific converters pd.to_datetime, pd.to_timedelta and pd.to_numeric.\n"
     ]
    }
   ],
   "source": [
    "file_path = '/Users/macbook/Desktop/Par_reg.xlsx' # загрузка данных \n",
    "df = xl.get_data(file_path)\n",
    "\n",
    "try:\n",
    "    df = df['Лист1']\n",
    "except:\n",
    "    df = df['Sheet1']\n",
    "    \n",
    "df[0] = df[0][1:] # создание матрицы регион-партия\n",
    "parties_names = df[0][0:df[0].index('')]\n",
    "regions_names = []\n",
    "data = []\n",
    "\n",
    "for element in df[1:]:\n",
    "    regions_names.append(element[0])\n",
    "    data.append(element[1:])\n",
    "    \n",
    "pd_df = pd.DataFrame(index = regions_names, columns = parties_names, data = data)\n",
    "\n",
    "# проверка на ошибки\n",
    "\n",
    "counter = 0\n",
    "for dtype in pd_df.dtypes:\n",
    "    if dtype != 'int64':\n",
    "        print('Party {} contains a non-numeric value'.format(parties_names[counter]))\n",
    "        print()\n",
    "        print('--------------------------------------------------------------')\n",
    "        print()\n",
    "    counter += 1\n",
    "    \n",
    "pd_df = pd_df.convert_objects(convert_numeric = True) # замена всех нечисловых значений на 0.0\n",
    "pd_df.replace(to_replace = np.nan, value = 0, inplace = True)\n",
    "\n",
    "counter = 0\n",
    "for votes_sum in pd_df.sum(axis = 1):\n",
    "    if abs(100 - votes_sum) > 1.0:\n",
    "        print('Sum of region {} votes does not equal 100%, but {}'.format(regions_names[counter], votes_sum))\n",
    "        print()\n",
    "        print('--------------------------------------------------------------')\n",
    "        print()\n",
    "    counter += 1\n",
    "    \n",
    "codes = [] # список с кодировками всех регионов (список списков)   \n",
    "for i in range(pd_df.shape[0]): # для всех регионов в матрице\n",
    "    code = ''\n",
    "    for j in range(pd_df.shape[1] - 1): # для всех партий в регионе\n",
    "        if pd_df.iloc[i, j] > pd_df.iloc[i, j + 1]:\n",
    "            code += '2'\n",
    "        elif pd_df.iloc[i, j] == pd_df.iloc[i, j + 1]:\n",
    "            code += '0'\n",
    "        else:\n",
    "            code += '1'\n",
    "    codes.append(code)\n",
    "       \n",
    "pd_df['code'] = codes\n",
    "\n",
    "unique_codes = np.unique(codes) # список уникальных кодировок\n",
    "print('Можно выделить {} кластера(-ов)'.format(len(unique_codes)))\n",
    "print()\n",
    "print('--------------------------------------------------------------')\n",
    "print()\n",
    "\n",
    "counter = 1\n",
    "for unique_code in unique_codes:\n",
    "    print('К кластеру {}, выраженному кодировкой {}, принадлежат регионы:'.format(counter, unique_code))\n",
    "    for region in pd_df.loc[pd_df['code'] == unique_code].index:\n",
    "        print(region)\n",
    "    counter += 1\n",
    "    print()\n",
    "    print('--------------------------------------------------------------')\n",
    "    print()"
   ]
  },
  {
   "cell_type": "code",
   "execution_count": 153,
   "metadata": {},
   "outputs": [
    {
     "name": "stdout",
     "output_type": "stream",
     "text": [
      "К кластеру 1, выраженному кодировкой 00, принадлежат регионы:\n",
      "Region 2\n",
      "К кластеру 2, выраженному кодировкой 11, принадлежат регионы:\n",
      "Region 3\n",
      "Region 4\n",
      "Region 5\n",
      "Region 6\n",
      "К кластеру 3, выраженному кодировкой 21, принадлежат регионы:\n",
      "Region 1\n"
     ]
    }
   ],
   "source": [
    "counter = 1\n",
    "for unique_code in unique_codes:\n",
    "    print('К кластеру {}, выраженному кодировкой {}, принадлежат регионы:'.format(counter, unique_code))\n",
    "    for region in pd_df.loc[pd_df['code'] == unique_code].index:\n",
    "        print(region)\n",
    "    counter += 1"
   ]
  },
  {
   "cell_type": "markdown",
   "metadata": {},
   "source": [
    "### Проект алгоритма кластеризации №2.\n",
    "\n",
    "Инвариантный способ\n",
    "\n",
    "Описание:\n",
    "\n",
    "1) подгрузка данных из excel \n",
    "       - проверяем файл на ошибки (пропуски, сумма ряда больше 100%, данные другого типа) --> raise error\n",
    "2) создаем data frame\n",
    "3) функция кодировки регионов (0-1-2)\n",
    "4) для каждой возможной перестановки столбцов фрейма\n",
    "       - кодировка\n",
    "       - расстояния Хемминга\n",
    "       - развиение на паттерны\n",
    "5) если во всех перестановках гергион относится к одному паттерну, выделяется инвариативный паттерн\n",
    "6) визуализация полученного результата\n",
    "        - график\n",
    "        - текст"
   ]
  },
  {
   "cell_type": "code",
   "execution_count": null,
   "metadata": {
    "collapsed": true
   },
   "outputs": [],
   "source": []
  },
  {
   "cell_type": "code",
   "execution_count": null,
   "metadata": {
    "collapsed": true
   },
   "outputs": [],
   "source": []
  },
  {
   "cell_type": "code",
   "execution_count": null,
   "metadata": {
    "collapsed": true
   },
   "outputs": [],
   "source": []
  },
  {
   "cell_type": "code",
   "execution_count": null,
   "metadata": {
    "collapsed": true
   },
   "outputs": [],
   "source": []
  },
  {
   "cell_type": "code",
   "execution_count": null,
   "metadata": {
    "collapsed": true
   },
   "outputs": [],
   "source": []
  },
  {
   "cell_type": "code",
   "execution_count": null,
   "metadata": {
    "collapsed": true
   },
   "outputs": [],
   "source": []
  }
 ],
 "metadata": {
  "kernelspec": {
   "display_name": "Python 3",
   "language": "python",
   "name": "python3"
  },
  "language_info": {
   "codemirror_mode": {
    "name": "ipython",
    "version": 3
   },
   "file_extension": ".py",
   "mimetype": "text/x-python",
   "name": "python",
   "nbconvert_exporter": "python",
   "pygments_lexer": "ipython3",
   "version": "3.6.3"
  }
 },
 "nbformat": 4,
 "nbformat_minor": 2
}
