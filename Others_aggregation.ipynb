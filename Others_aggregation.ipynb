{
 "cells": [
  {
   "cell_type": "code",
   "execution_count": 1,
   "metadata": {
    "collapsed": true
   },
   "outputs": [],
   "source": [
    "import pyexcel_xlsx as xl\n",
    "import pandas as pd\n",
    "import numpy as np\n",
    "from collections import OrderedDict"
   ]
  },
  {
   "cell_type": "code",
   "execution_count": 2,
   "metadata": {
    "collapsed": true
   },
   "outputs": [],
   "source": [
    "def OtherMaker(path_read, path_write, threshold): # На вход пути считывания и записи а также пороговое значение. Если у партии\n",
    "                                                  # число парламентариев меньше порога, то ее сливаем в Others.\n",
    "    \n",
    "    counData = xl.get_data(path_read)\n",
    "    \n",
    "    party_dict = dict() # тут словарик, где у каждой партии будут индикаторы: 1 - если ее не надо сливать в others и 0 если надо\n",
    "    for key in counData.keys():\n",
    "        for i in counData[key][0][1:-4]:\n",
    "            if i not in party_dict.keys():\n",
    "                party_dict[i] = 0\n",
    "    \n",
    "    newOrderedDict = dict() # Сюда будем записывать датафреймы с каждой страницы\n",
    "    for key in counData.keys():\n",
    "        df = counData[key]\n",
    "        df[0] = df[0][1:]\n",
    "        parties_names = df[0][0:df[0].index('')]\n",
    "        regions_names = []\n",
    "        data = []\n",
    "        for element in df[1:]:\n",
    "            regions_names += [element[0]]\n",
    "            data += [element[1:]]\n",
    "        pd_df = pd.DataFrame(index = regions_names, columns = parties_names, data = data) # Делаем из каждой страницы датафрейм\n",
    "        for i in pd_df.columns:\n",
    "            if party_dict[i] != 1:\n",
    "                indicator = 0 # Индикатор того, что у данной партии нет региона, в котором у нее больше 5%\n",
    "                for rate in pd_df[i]:\n",
    "                    if rate >= threshold: # Тут проверка, что нет больше порогового значения\n",
    "                        indicator = 1\n",
    "                if indicator == 1:\n",
    "                    party_dict[i] = 1\n",
    "                else:\n",
    "                    party_dict[i] = 0\n",
    "        newOrderedDict[key] = pd_df\n",
    "        \n",
    "    OneMoreDict = dict() # Это еще один промежуточный датафрейм\n",
    "    for sheet in newOrderedDict:\n",
    "        df = newOrderedDict[sheet]\n",
    "        parties_to_other = []\n",
    "        for i in party_dict.keys():\n",
    "            if party_dict[i] == 0 and (i in list(df.columns)):\n",
    "                parties_to_other += [i]\n",
    "        if parties_to_other != []:\n",
    "            df['Others'] = np.zeros(df.shape[0]) # Тут в общем сливаем и суммируем\n",
    "            for i in parties_to_other:\n",
    "                df['Others'] += np.array(df[i])\n",
    "                df.drop(i, axis = 1, inplace = True)\n",
    "        OneMoreDict[sheet] = df\n",
    "    DictToWrite = OrderedDict(sorted(OneMoreDict.items(), key=lambda t: t[0])) # Специально сделал OrderedDict, чтобы записать \n",
    "                                                                               # в файл в нужном порядке\n",
    "        \n",
    "    writer = pd.ExcelWriter(path_write, engine='xlsxwriter')\n",
    "    for i in DictToWrite.keys():\n",
    "        DictToWrite[i].to_excel(writer, sheet_name = i, startrow = 0)\n",
    "    writer.save()\n",
    "    \n",
    "    return \"It is done!\""
   ]
  },
  {
   "cell_type": "code",
   "execution_count": 4,
   "metadata": {},
   "outputs": [
    {
     "data": {
      "text/plain": [
       "'It is done!'"
      ]
     },
     "execution_count": 4,
     "metadata": {},
     "output_type": "execute_result"
    }
   ],
   "source": [
    "OtherMaker('banks_test.xlsx', 'banks_test_new.xlsx', 5)"
   ]
  },
  {
   "cell_type": "code",
   "execution_count": null,
   "metadata": {
    "collapsed": true
   },
   "outputs": [],
   "source": []
  }
 ],
 "metadata": {
  "kernelspec": {
   "display_name": "Python 3",
   "language": "python",
   "name": "python3"
  },
  "language_info": {
   "codemirror_mode": {
    "name": "ipython",
    "version": 3
   },
   "file_extension": ".py",
   "mimetype": "text/x-python",
   "name": "python",
   "nbconvert_exporter": "python",
   "pygments_lexer": "ipython3",
   "version": "3.6.3"
  }
 },
 "nbformat": 4,
 "nbformat_minor": 2
}
