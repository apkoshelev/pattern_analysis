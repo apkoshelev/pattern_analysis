{
 "cells": [
  {
   "cell_type": "markdown",
   "metadata": {},
   "source": [
    "# Проект \"Анализ паттернов\". Построение алгоритмов выделения паттернов."
   ]
  },
  {
   "cell_type": "code",
   "execution_count": null,
   "metadata": {
    "collapsed": true
   },
   "outputs": [],
   "source": [
    "# imports\n",
    "import pyexcel_xlsx as xl\n",
    "import pandas as pd\n",
    "import numpy as np\n",
    "from itertools import permutations\n",
    "from itertools import combinations\n",
    "import matplotlib.pyplot as plt\n",
    "%matplotlib inline\n",
    "import time"
   ]
  },
  {
   "cell_type": "markdown",
   "metadata": {},
   "source": [
    "## Проект алгоритма выделения порядково-фиксированных паттернов.\n",
    "\n",
    "__Основа метода - расстояние Хемминга.__\n",
    "\n",
    "Описание:\n",
    "\n",
    "1) подгрузка данных из excel \n",
    "    \n",
    "2) создание дата фрейма регион-партия\n",
    "    - проверяем файл на ошибки (пропуски, сумма ряда больше 100%, данные другого типа)\n",
    "3) кодировка регионов (0-1-2)\n",
    "\n",
    "4) подсчет попарного расстояния Хемминга для каждой пары регионов без перестановок\n",
    "    - регионы, имеющие нулевое расстояние между собой, относятся к одному паттерну\n",
    "    \n",
    "5) визуализация полученного результата\n",
    "    - график\n",
    "    - текст"
   ]
  },
  {
   "cell_type": "code",
   "execution_count": null,
   "metadata": {
    "collapsed": true
   },
   "outputs": [],
   "source": [
    "def encode(df):\n",
    "    codes = [] # список с кодировками всех регионов (список списков)   \n",
    "    for i in range(df.shape[0]): # для всех регионов в матрице\n",
    "        code = ''\n",
    "        for j in range(df.shape[1] - 1): # для всех партий в регионе\n",
    "            if df.iloc[i, j] > df.iloc[i, j + 1]:\n",
    "                code += '2'\n",
    "            elif df.iloc[i, j] == df.iloc[i, j + 1]:\n",
    "                code += '0'\n",
    "            else:\n",
    "                code += '1'\n",
    "        codes.append(code)\n",
    "    return codes"
   ]
  },
  {
   "cell_type": "code",
   "execution_count": null,
   "metadata": {
    "collapsed": true
   },
   "outputs": [],
   "source": [
    "def error_check_xlsx(df, parties_names, regions_names, f):\n",
    "    print('Type the path of the xlsx file')\n",
    "    file_path = input()\n",
    "    print('Type the path for the output txt file')\n",
    "    output_file_path = input()\n",
    "    f = open(output_file_path,'w')\n",
    "    general_df = xl.get_data(file_path)\n",
    "    for country_year in general_df.keys():\n",
    "        print(country_year + ' DATA ERRORS', file = f)\n",
    "        df = general_df[country_year]\n",
    "        print(file = f)\n",
    "        df[0] = df[0][1:] # создание матрицы регион-партия\n",
    "        parties_names = df[0][0:df[0].index('')]\n",
    "        regions_names = []\n",
    "        data = []\n",
    "        for element in df[1:]:\n",
    "            regions_names.append(element[0])\n",
    "            data.append(element[1:])\n",
    "        pd_df = pd.DataFrame(index = regions_names, columns = parties_names, data = data)\n",
    "        counter = 0\n",
    "        df = df.convert_objects(convert_numeric = True) # замена всех нечисловых значений на 0.0\n",
    "        df.replace(to_replace = np.nan, value = 0, inplace = True)\n",
    "        counter = 0\n",
    "        for votes_sum in df.sum(axis = 1):\n",
    "            if abs(100 - votes_sum) > 0.5:\n",
    "                print('Sum of region {} votes does not equal 100%, but {}'.format(regions_names[counter], votes_sum),\n",
    "                     file = f)\n",
    "            counter += 1\n",
    "    print('--------------------------------------------------------------', file = f)"
   ]
  },
  {
   "cell_type": "code",
   "execution_count": null,
   "metadata": {
    "collapsed": true
   },
   "outputs": [],
   "source": [
    "def error_check(df, parties_names, regions_names, f):\n",
    "    counter = 0\n",
    "    print('DATA ERRORS', file = f)\n",
    "    for dtype in df.dtypes:\n",
    "        if dtype != 'int64':\n",
    "            print('Party {} contains a non-numeric value'.format(parties_names[counter]), file = f)\n",
    "        counter += 1\n",
    "    print()\n",
    "    df = df.convert_objects(convert_numeric = True) # замена всех нечисловых значений на 0.0\n",
    "    df.replace(to_replace = np.nan, value = 0, inplace = True)\n",
    "    counter = 0\n",
    "    for votes_sum in df.sum(axis = 1):\n",
    "        if abs(100 - votes_sum) > 1.0:\n",
    "            print('Sum of region {} votes does not equal 100%, but {}'.format(regions_names[counter], votes_sum),\n",
    "                 file = f)\n",
    "        counter += 1\n",
    "    print('--------------------------------------------------------------', file = f)"
   ]
  },
  {
   "cell_type": "code",
   "execution_count": null,
   "metadata": {
    "collapsed": true
   },
   "outputs": [],
   "source": [
    "def ordinally_fixed_patterns():\n",
    "    print('Type the path of the file')\n",
    "    print('/Users/macbook/Desktop/banks_test.xlsx')\n",
    "    f = open('ordinally_fixed_patterns','w')\n",
    "    file_path = input()\n",
    "    general_df = xl.get_data(file_path)\n",
    "    for country_year in general_df.keys():\n",
    "        print(country_year, file = f)\n",
    "        df = general_df[country_year]\n",
    "        print('--------------------------------------------------------------', file = f)\n",
    "        df[0] = df[0][1:] # создание матрицы регион-партия\n",
    "        parties_names = df[0][0:df[0].index('')]\n",
    "        regions_names = []\n",
    "        data = []\n",
    "        for element in df[1:]:\n",
    "            regions_names.append(element[0])\n",
    "            data.append(element[1:])\n",
    "        pd_df = pd.DataFrame(index = regions_names, columns = parties_names, data = data)\n",
    "        error_check(pd_df, parties_names, regions_names, f = f) # проверка на ошибки\n",
    "        codes = encode(pd_df)\n",
    "        pd_df['code'] = codes\n",
    "        unique_codes = np.unique(codes) # список уникальных кодировок\n",
    "        print('{} ordinally-fixed patters have been recognized'.format(len(unique_codes)), file = f)\n",
    "        print('--------------------------------------------------------------', file = f)\n",
    "        counter = 1\n",
    "        for unique_code in unique_codes:\n",
    "            print('Pattern №{}, encoded as {}, includes following regions:'.format(counter, unique_code), file = f)\n",
    "            for region in pd_df.loc[pd_df['code'] == unique_code].index:\n",
    "                print(region, file = f)\n",
    "            counter += 1\n",
    "            print('--------------------------------------------------------------', file = f)\n",
    "        plt.figure(figsize = (12, 8))\n",
    "        pd.tools.plotting.parallel_coordinates(pd_df[pd_df.columns], 'code')\n",
    "        plt.legend(pd_df.index)\n",
    "        plt_name = country_year + '_ordinally_fixed_patterns'\n",
    "        plt.title(plt_name)\n",
    "        plt.savefig(plt_name)\n",
    "        print('==============================================================', file = f)"
   ]
  },
  {
   "cell_type": "code",
   "execution_count": null,
   "metadata": {
    "collapsed": true,
    "scrolled": true
   },
   "outputs": [],
   "source": [
    "ordinally_fixed_patterns()"
   ]
  },
  {
   "cell_type": "markdown",
   "metadata": {},
   "source": [
    "## Проект алгоритма выделения порядково-инвариантных паттернов.\n",
    "\n",
    "Инвариантный способ\n",
    "\n",
    "Описание:\n",
    "\n",
    "1) подгрузка данных из excel \n",
    "       - проверяем файл на ошибки (пропуски, сумма ряда больше 100%, данные другого типа) --> raise error\n",
    "2) создаем data frame\n",
    "3) функция кодировки регионов (0-1-2)\n",
    "4) для каждой возможной перестановки столбцов фрейма\n",
    "       - кодировка\n",
    "       - расстояния Хемминга\n",
    "       - разбиение на паттерны\n",
    "5) если во всех перестановках гергион относится к одному паттерну, выделяется инвариативный паттерн\n",
    "6) визуализация полученного результата\n",
    "        - график\n",
    "        - текст"
   ]
  },
  {
   "cell_type": "code",
   "execution_count": null,
   "metadata": {
    "collapsed": true
   },
   "outputs": [],
   "source": [
    "def ordinally_invariant_patterns():\n",
    "    print('Type the path of the file')\n",
    "    print('/Users/macbook/Desktop/banks_test.xlsx')\n",
    "    f = open('ordinally_invariant_patterns','w')\n",
    "    file_path = input()\n",
    "    general_df = xl.get_data(file_path)\n",
    "    for country_year in general_df.keys():\n",
    "        print(country_year, file = f)\n",
    "        df = general_df[country_year]\n",
    "        print('--------------------------------------------------------------', file = f)\n",
    "        df[0] = df[0][1:] # создание матрицы регион-партия\n",
    "        parties_names = df[0]#[0:df[0].index('')]\n",
    "        regions_names = []\n",
    "        data = []\n",
    "        for element in df[1:]:\n",
    "            regions_names.append(element[0])\n",
    "            data.append(element[1:])\n",
    "        pd_df = pd.DataFrame(index = regions_names, columns = parties_names, data = data)\n",
    "        #error_check(pd_df, parties_names, regions_names, f = f) # проверка на ошибки\n",
    "        transposed_df = pd_df.transpose()\n",
    "        patterns = []\n",
    "        for column in transposed_df.columns:\n",
    "            pattern_to_add = ''\n",
    "            for i in transposed_df[column].sort_values().index:\n",
    "                pattern_to_add += i\n",
    "            patterns.append(pattern_to_add)\n",
    "        patterns = np.array(patterns)\n",
    "        unique_patterns = np.unique(patterns)\n",
    "        regions_names = np.array(regions_names)\n",
    "        print('{} invariant pattern(s) have been found'.format(unique_patterns.shape[0]), file = f)\n",
    "        print('--------------------------------------------------------------', file = f)\n",
    "        counter = 1\n",
    "        for unique_pattern in unique_patterns:\n",
    "            print('Invariant Pattern {} includes following regions:'.format(counter), file = f)\n",
    "            pattern_regions = regions_names[patterns == unique_pattern]\n",
    "            for region in pattern_regions:\n",
    "                print(region, file = f)\n",
    "            counter += 1\n",
    "            print('--------------------------------------------------------------', file = f)\n",
    "        print('==============================================================', file = f)\n",
    "        pd_df['code'] = patterns\n",
    "        plt.figure(figsize = (25, 20))\n",
    "        plt.xticks(rotation = 45, fontsize = 25)\n",
    "        plt.yticks(fontsize = 25)\n",
    "        pd.tools.plotting.parallel_coordinates(pd_df[pd_df.columns], 'code', colormap = 'gist_rainbow', \n",
    "                                              linewidth = 4.0)\n",
    "        plt.legend(pd_df.index, shadow = True)\n",
    "        plt_name = country_year + '_ordinally_invariant_patterns'\n",
    "        plt.title(plt_name, fontsize = 40)\n",
    "        plt.savefig(plt_name)"
   ]
  },
  {
   "cell_type": "code",
   "execution_count": null,
   "metadata": {},
   "outputs": [],
   "source": [
    "ordinally_invariant_patterns()"
   ]
  },
  {
   "cell_type": "markdown",
   "metadata": {
    "collapsed": true
   },
   "source": [
    "## Проект алгоритма выделения диффузионно-инвариантных паттернов.\n",
    "\n",
    "Описание:\n",
    "\n",
    "1) построение инваририантных паттернов на основе алгоритма №2.\n",
    "\n",
    "2) выделение диффузионно-инвариантных паттернов внутри групп инвариантных паттернов\n",
    "    - диффузионно-инвариантных паттернов будет не меньше, чем инвариантных"
   ]
  },
  {
   "cell_type": "code",
   "execution_count": null,
   "metadata": {
    "collapsed": true
   },
   "outputs": [],
   "source": [
    "def pair_diffusion_estimation(df): # пусть в df не будет явно задан столбик с кодировкой\n",
    "    decision = True\n",
    "    for m in range(df.shape[1] - 1): # для всех столбцов, кроме последнего, содержащего кодировку\n",
    "        test_df = df\n",
    "        true_code = encode(df)\n",
    "        value_1 = test_df.iloc[0, m]\n",
    "        value_2 = test_df.iloc[1, m]\n",
    "        test_df.iloc[0, m] = value_2\n",
    "        test_df.iloc[1, m] = value_1\n",
    "        codes = encode(test_df)\n",
    "        if codes != true_code:\n",
    "            decision = False\n",
    "        break\n",
    "    return decision  "
   ]
  },
  {
   "cell_type": "code",
   "execution_count": null,
   "metadata": {
    "collapsed": true
   },
   "outputs": [],
   "source": [
    "def diffusive_invariant_patterns():\n",
    "    print('Type the path of the file')\n",
    "    print('/Users/macbook/Desktop/banks_test.xlsx')\n",
    "    f = open('diffusive_invariant_patterns','w')\n",
    "    file_path = input()\n",
    "    general_df = xl.get_data(file_path)\n",
    "    for country_year in general_df.keys(): # проходим по каждому листу в excel файле\n",
    "        df = general_df[country_year]\n",
    "        print(country_year, file = f)\n",
    "        print('--------------------------------------------------------------', file = f)\n",
    "        df[0] = df[0][1:] # создание матрицы регион-партия\n",
    "        parties_names = df[0]#[0:df[0].index('')]\n",
    "        regions_names = []\n",
    "        data = []\n",
    "        for element in df[1:]:\n",
    "            regions_names.append(element[0])\n",
    "            data.append(element[1:])\n",
    "        pd_df = pd.DataFrame(index = regions_names, columns = parties_names, data = data)\n",
    "        all_clusters = []\n",
    "        #error_check(pd_df, parties_names, regions_names, f = f)\n",
    "        transposed_df = pd_df.transpose()\n",
    "        sorted_parties = []\n",
    "        patterns = []\n",
    "        for column in transposed_df.columns:\n",
    "            pattern_to_add = ''\n",
    "            for i in transposed_df[column].sort_values().index:\n",
    "                pattern_to_add += i\n",
    "            patterns.append(pattern_to_add)\n",
    "        patterns = np.array(patterns)\n",
    "        unique_patterns = np.unique(patterns)\n",
    "        regions_names = np.array(regions_names)\n",
    "        num_invariant_patterns = unique_patterns.shape[0]\n",
    "\n",
    "        diffusion_pattern_counter = 0 # счетчик диффузионно-инвариантных паттернов\n",
    "        diffusion_patterns_all = [] # лист с индексами объектов для каждого диффузионно-инвариантного паттерна\n",
    "        inv_indexes = []\n",
    "        for i in range(num_invariant_patterns): # находим индексы объектов, принадлежащих всем порядково-инвариантным паттернам\n",
    "            invariant_pattern = unique_patterns[i]\n",
    "            indexes = []\n",
    "            for index, pattern in enumerate(patterns):\n",
    "                if pattern == invariant_pattern:\n",
    "                    indexes.append(index)\n",
    "            inv_indexes.append(indexes) # результат - inv_indexes, длина которого равна количеству инвариантных паттернов\n",
    "        for i in range(len(inv_indexes)): # для каждого инвариантного паттерна ищем его диффузионно-инвариантные подмножества\n",
    "            diff_patterns_types = [] # лист с типами диффузионно-инвариантных паттернов объектов  конкретного инвариантного паттерна\n",
    "            for j in range(len(inv_indexes[i])):\n",
    "                diff_patterns_types.append(np.nan)\n",
    "            indexes_to_check = inv_indexes[i]\n",
    "            #print(indexes_to_check)\n",
    "            inv_cluster = pd_df.iloc[indexes_to_check]\n",
    "            diff_patterns_types[0] = diff_patterns_types.index(np.nan) # определим тип диффузионного паттерна первого элемента как 0\n",
    "            diffusion_pattern_counter = 0\n",
    "            # будем проводить эту операцию пока не определим диффузионно-инвариантный паттерн для каждого объекта инвариантного паттерна\n",
    "            while np.nan in diff_patterns_types:\n",
    "                #print(diff_patterns_types)\n",
    "                for n in range(1, inv_cluster.shape[0]): # возможно улучшение - прохождение только по неизвестным объектам\n",
    "                    if pair_diffusion_estimation(inv_cluster.iloc[[diffusion_pattern_counter, n]]) == True:\n",
    "                        diff_patterns_types[n] = diffusion_pattern_counter\n",
    "                try:\n",
    "                    diffusion_pattern_counter = diff_patterns_types.index(np.nan)\n",
    "                except ValueError:\n",
    "                    pass\n",
    "            diffusion_patterns_all.append(diff_patterns_types)\n",
    "        print('{} diffusive-invariant pattern(s) have been found'.format(len(diffusion_patterns_all)), file = f)\n",
    "        print(file = f)\n",
    "        diffusion_patterns = np.array(diffusion_patterns_all)\n",
    "        for i in range(len(diffusion_patterns_all)):\n",
    "            print('Invariant pattern №{} contains {} diffusion-invariant pattern(s):'.format(i + 1, len(np.unique(diffusion_patterns_all[i]))),\n",
    "                 file = f)\n",
    "            print(file = f)\n",
    "            counter = 0\n",
    "            for diff_unique in np.unique(diffusion_patterns_all[i]):\n",
    "                print('Diffusive-invariant pattern №{} in Invariant pattern №{} contains following regions:'.format(counter + 1, i + 1), \n",
    "                     file = f)\n",
    "                counter += 1\n",
    "                indexes_diff = np.argwhere(diffusion_patterns[i] == diff_unique)\n",
    "                indexes_diff_list = []\n",
    "                for index in indexes_diff:\n",
    "                    indexes_diff_list.append(index[0])\n",
    "                for region_idx in indexes_diff_list:\n",
    "                    print(regions_names[inv_indexes[i]][region_idx], file = f)\n",
    "                print(file = f)\n",
    "            print('--------------------------------------------------------------', file = f)\n",
    "        print('==============================================================', file = f)"
   ]
  },
  {
   "cell_type": "code",
   "execution_count": null,
   "metadata": {},
   "outputs": [],
   "source": [
    "start = time.time()\n",
    "diffusive_invariant_patterns()\n",
    "end = time.time()\n",
    "print(end-start)"
   ]
  }
 ],
 "metadata": {
  "kernelspec": {
   "display_name": "Python 3",
   "language": "python",
   "name": "python3"
  },
  "language_info": {
   "codemirror_mode": {
    "name": "ipython",
    "version": 3
   },
   "file_extension": ".py",
   "mimetype": "text/x-python",
   "name": "python",
   "nbconvert_exporter": "python",
   "pygments_lexer": "ipython3",
   "version": "3.6.3"
  }
 },
 "nbformat": 4,
 "nbformat_minor": 2
}
